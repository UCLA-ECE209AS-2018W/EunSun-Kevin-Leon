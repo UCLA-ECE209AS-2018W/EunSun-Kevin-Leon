{
 "cells": [
  {
   "cell_type": "code",
   "execution_count": 3,
   "metadata": {
    "collapsed": false,
    "scrolled": false
   },
   "outputs": [
    {
     "name": "stdout",
     "output_type": "stream",
     "text": [
      "None\n"
     ]
    }
   ],
   "source": [
    "import re\n",
    "import os\n",
    "\n",
    "white_f = 'C:\\Users\\EUN SUN LEE\\Documents\\EE209 Project\\project\\\\whitelist.txt'\n",
    "\n",
    "def check_whitelist(ip_address):\n",
    "    # return 1 if the ip_address exists, 0 if not     \n",
    "    check = 0\n",
    "    with open(white_f) as f:\n",
    "        for line in f:\n",
    "            if ip_address in line: check = 1 \n",
    "    return check\n",
    "\n",
    "def add_whitelist(ip_address):\n",
    "    f = open(white_f, 'a')\n",
    "    if (check_whitelist(ip_address) == 0): \n",
    "        f.write('%s %s' % (ip_address, \",\"))\n",
    "\n",
    "def filterlog_search(filename, searchtext1, searchtext2, returntype):\n",
    "    h = 0 \n",
    "    returntypes  = ['date/time','rulenumber','interface','source_ip','source_port','destination_ip','destination_port','protocol']\n",
    "    with open(filename) as f:\n",
    "        for line in f:\n",
    "            if searchtext1 in line:\n",
    "                if searchtext2 in line:\n",
    "                    logline_list = [x.strip() for x in line.split(',')]\n",
    "                    if(len(logline_list) == 23):\n",
    "                        if(logline_list[0][16:34] == 'pfSense filterlog:'):\n",
    "                            if returntype == 0: output = logline_list[0] #date/time\n",
    "                            if returntype == 1: output = logline_list[3] #rulenumber\n",
    "                            if returntype == 2: output = logline_list[4] #interface\n",
    "                            if returntype == 3: output = logline_list[6] #pass/block\n",
    "                            if returntype == 4: output = logline_list[18] #source_ip\n",
    "                            if returntype == 5: output = logline_list[19] #destination_ip\n",
    "                            if returntype == 6: output = logline_list[16] #protocol\n",
    "                            # re = check_whitelist(output)\n",
    "                            # add_whitelist(output)\n",
    "                            #print(re)\n",
    "\n",
    "filename = 'C:\\Users\\EUN SUN LEE\\Documents\\EE209 Project\\project\\\\exfilter.log'\n",
    "searchtext1 = 'pass'\n",
    "searchtext2 = ''\n",
    "#returntypes  = ['0:date/time','1:rulenumber','2:interface','3:pass/block','4:source_ip','5:destination_ip','6:protocol'\n",
    "#'7:source_port','8:destination_port']\n",
    "print(filterlog_search(filename, searchtext1, searchtext2, 4))\n",
    "\n"
   ]
  },
  {
   "cell_type": "code",
   "execution_count": 308,
   "metadata": {
    "collapsed": false
   },
   "outputs": [
    {
     "name": "stdout",
     "output_type": "stream",
     "text": [
      "2018-03-17:17:34:21\n"
     ]
    }
   ],
   "source": [
    "import json\n",
    "white_f = 'C:\\Users\\EUN SUN LEE\\Documents\\EE209 Project\\\\whitelist.txt'\n",
    "timea =  datetime.datetime.now()\n",
    "def timeStamped(fname, fmt='%Y-%m-%d:%H:%M:%S'):\n",
    "    return datetime.datetime.now().strftime(fmt)#.format(fname=fname)\n",
    "print(timeStamped(timea))\n"
   ]
  },
  {
   "cell_type": "code",
   "execution_count": 327,
   "metadata": {
    "collapsed": false
   },
   "outputs": [],
   "source": [
    "import datetime\n",
    "timeb =  datetime.datetime.now()\n",
    "def timeStamped(fname, fmt='%Y-%m-%d:%H:%M:%S'):\n",
    "    return fname.strftime(fmt)#.format(fname=fname)"
   ]
  },
  {
   "cell_type": "code",
   "execution_count": 342,
   "metadata": {
    "collapsed": false
   },
   "outputs": [
    {
     "name": "stdout",
     "output_type": "stream",
     "text": [
      "{'3': '2018-03-17:17:38:43', 'exDict': '2018-03-17:17:34:21'}\n"
     ]
    }
   ],
   "source": [
    "# as requested in comment\n",
    "exDict = {'exDict':timea.strftime('%Y-%m-%d:%H:%M:%S')}\n",
    "exDict.update({'3':timeb.strftime('%Y-%m-%d:%H:%M:%S')})\n",
    "print(exDict)\n"
   ]
  },
  {
   "cell_type": "code",
   "execution_count": 343,
   "metadata": {
    "collapsed": true
   },
   "outputs": [],
   "source": [
    "with open(white_f, 'w') as file:\n",
    "    file.write(json.dumps(exDict)) # use `json.loads` to do the reverse"
   ]
  },
  {
   "cell_type": "code",
   "execution_count": 344,
   "metadata": {
    "collapsed": false
   },
   "outputs": [
    {
     "name": "stdout",
     "output_type": "stream",
     "text": [
      "{\"3\": \"2018-03-17:17:38:43\", \"exDict\": \"2018-03-17:17:34:21\"}\n"
     ]
    }
   ],
   "source": [
    "with open(white_f, 'r') as file:\n",
    "    line = file.read() # use `json.loads` to do the reverse\n",
    "    print(line)"
   ]
  },
  {
   "cell_type": "code",
   "execution_count": 348,
   "metadata": {
    "collapsed": false
   },
   "outputs": [
    {
     "name": "stdout",
     "output_type": "stream",
     "text": [
      "2018-03-17 17:38:43\n",
      "2018-03-17 17:34:21\n",
      "262\n"
     ]
    }
   ],
   "source": [
    "from datetime import datetime\n",
    "exDict['3']\n",
    "a = datetime.strptime(exDict['3'], '%Y-%m-%d:%H:%M:%S')\n",
    "b = datetime.strptime(exDict['exDict'], '%Y-%m-%d:%H:%M:%S')\n",
    "print(a)\n",
    "print(b)\n",
    "print((a-b).seconds)"
   ]
  },
  {
   "cell_type": "code",
   "execution_count": null,
   "metadata": {
    "collapsed": false,
    "scrolled": true
   },
   "outputs": [],
   "source": []
  },
  {
   "cell_type": "code",
   "execution_count": 255,
   "metadata": {
    "collapsed": false
   },
   "outputs": [
    {
     "name": "stdout",
     "output_type": "stream",
     "text": [
      "2018-03-17 17:15:41.025000\n"
     ]
    }
   ],
   "source": [
    "from time import gmtime, strftime\n",
    "\n",
    "timea =  datetime.datetime.now()#strftime(\"%a, %d %b %Y %H:%M:%S +0000\", gmtime())\n",
    "print(timea)\n",
    "\n",
    "# from datetime import datetime\n",
    "# s1 = '10:33:26'\n",
    "# s2 = '11:15:49' # for example\n",
    "# FMT = '%H:%M:%S'\n",
    "# tdelta = datetime.strptime(s2, FMT) - datetime.strptime(s1, FMT)\n"
   ]
  },
  {
   "cell_type": "code",
   "execution_count": null,
   "metadata": {
    "collapsed": false
   },
   "outputs": [],
   "source": []
  },
  {
   "cell_type": "code",
   "execution_count": 259,
   "metadata": {
    "collapsed": false
   },
   "outputs": [
    {
     "name": "stdout",
     "output_type": "stream",
     "text": [
      "7\n"
     ]
    }
   ],
   "source": []
  }
 ],
 "metadata": {
  "kernelspec": {
   "display_name": "Python 2",
   "language": "python",
   "name": "python2"
  },
  "language_info": {
   "codemirror_mode": {
    "name": "ipython",
    "version": 2
   },
   "file_extension": ".py",
   "mimetype": "text/x-python",
   "name": "python",
   "nbconvert_exporter": "python",
   "pygments_lexer": "ipython2",
   "version": "2.7.13"
  }
 },
 "nbformat": 4,
 "nbformat_minor": 2
}
