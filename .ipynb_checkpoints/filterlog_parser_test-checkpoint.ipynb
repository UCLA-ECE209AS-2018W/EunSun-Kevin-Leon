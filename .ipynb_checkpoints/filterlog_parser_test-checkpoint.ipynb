{
 "cells": [
  {
   "cell_type": "code",
   "execution_count": 2,
   "metadata": {},
   "outputs": [
    {
     "ename": "AttributeError",
     "evalue": "type object 'datetime.datetime' has no attribute 'datetime'",
     "output_type": "error",
     "traceback": [
      "\u001b[0;31m---------------------------------------------------------------------------\u001b[0m",
      "\u001b[0;31mAttributeError\u001b[0m                            Traceback (most recent call last)",
      "\u001b[0;32m<ipython-input-2-1e65e4fb66dc>\u001b[0m in \u001b[0;36m<module>\u001b[0;34m()\u001b[0m\n\u001b[1;32m      8\u001b[0m         \u001b[0;32mreturn\u001b[0m \u001b[0mdatetime\u001b[0m\u001b[0;34m.\u001b[0m\u001b[0mstrptime\u001b[0m\u001b[0;34m(\u001b[0m\u001b[0mkey\u001b[0m\u001b[0;34m,\u001b[0m\u001b[0;34m'%Y-%m-%d:%H:%M:%S'\u001b[0m \u001b[0;34m)\u001b[0m\u001b[0;34m\u001b[0m\u001b[0m\n\u001b[1;32m      9\u001b[0m \u001b[0;34m\u001b[0m\u001b[0m\n\u001b[0;32m---> 10\u001b[0;31m \u001b[0mcurrent_time\u001b[0m \u001b[0;34m=\u001b[0m \u001b[0mtimetostr\u001b[0m\u001b[0;34m(\u001b[0m\u001b[0mdatetime\u001b[0m\u001b[0;34m.\u001b[0m\u001b[0mdatetime\u001b[0m\u001b[0;34m.\u001b[0m\u001b[0mnow\u001b[0m\u001b[0;34m(\u001b[0m\u001b[0;34m)\u001b[0m\u001b[0;34m)\u001b[0m\u001b[0;34m\u001b[0m\u001b[0m\n\u001b[0m\u001b[1;32m     11\u001b[0m \u001b[0mprint\u001b[0m\u001b[0;34m(\u001b[0m\u001b[0mcurrent_time\u001b[0m\u001b[0;34m)\u001b[0m\u001b[0;34m\u001b[0m\u001b[0m\n",
      "\u001b[0;31mAttributeError\u001b[0m: type object 'datetime.datetime' has no attribute 'datetime'"
     ]
    }
   ],
   "source": [
    "import datetime\n",
    "from datetime import datetime\n",
    "\n",
    "def timetostr(time):\n",
    "\treturn time.strftime('%Y-%m-%d:%H:%M:%S')\n",
    "\n",
    "def strtotime(key):\n",
    "\treturn datetime.strptime(key,'%Y-%m-%d:%H:%M:%S' )\n",
    "\n",
    "current_time = timetostr(datetime.datetime.now())\n",
    "print(current_time)"
   ]
  },
  {
   "cell_type": "code",
   "execution_count": 19,
   "metadata": {},
   "outputs": [
    {
     "name": "stdout",
     "output_type": "stream",
     "text": [
      "('0.0.0.0', '192.168.1.1')\n",
      "the key does not exist\n",
      "('0.0.0.1', '192.168.1.1')\n",
      "the key does not exist\n",
      "('192.168.1.10', '1.1.1.1')\n",
      "the key does not exist\n",
      "('192.168.1.10', '192.168.1.1')\n"
     ]
    }
   ],
   "source": [
    "import re\n",
    "import json\n",
    "import datetime\n",
    "\n",
    "def timetostr(time):\n",
    "    return time.strftime('%Y-%m-%d:%H:%M:%S')\n",
    "\n",
    "def strtotime(key):\n",
    "    return datetime.strptime(key,'%Y-%m-%d:%H:%M:%S' )\n",
    "\n",
    "def timedifference(a,b):\n",
    "    return ((a-b).seconds)\n",
    "\n",
    "\n",
    "def add_whitelist(sourceip, destinationip):\n",
    "    dict_list = []\n",
    "    print(sourceip, destinationip)\n",
    "    #open dictionary text file\n",
    "    with open(white_f, 'r') as file:\n",
    "        json_dict = file.read()\n",
    "        if (json_dict): whitelist_dict = json.loads(json_dict)\n",
    "        else: \n",
    "            whitelist_dict = {}\n",
    "        #checks if the sourceip address exists\n",
    "        if (sourceip) in whitelist_dict:\n",
    "            #sourceip address exists\n",
    "            #checks if the destinationip address exists\n",
    "            if not (destinationip) in whitelist_dict[sourceip]:\n",
    "                whitelist_dict[sourceip].append(destinationip)\n",
    "            #print(whitelist_dict[sourceip])\n",
    "        else:\n",
    "            print(\"the key does not exist\")\n",
    "#             print(sourceip, destinationip)\n",
    "            current_time =  timetostr(datetime.datetime.now())\n",
    "            dict_list = [current_time, destinationip]\n",
    "            whitelist_dict.update({sourceip:dict_list})\n",
    "            \n",
    "    with open(white_f, 'w') as file:\n",
    "        file.write(json.dumps(whitelist_dict)) # use `json.loads` to do the reverse\n",
    "\n",
    "        \n",
    "def filterlog_search(filename, searchtext1, searchtext2):\n",
    "    h = 0 \n",
    "    returntypes  = ['date/time','rulenumber','interface','source_ip','source_port','destination_ip','destination_port','protocol']\n",
    "    with open(filename) as f:\n",
    "        for line in f:\n",
    "            if searchtext1 in line:\n",
    "                if searchtext2 in line:\n",
    "                    logline_list = [x.strip() for x in line.split(',')]\n",
    "                    if(len(logline_list) == 23):\n",
    "                        if(logline_list[0][16:34] == 'pfSense filterlog:'):\n",
    "                            date_time = logline_list[0] #date/time\n",
    "                            rulenumber = logline_list[3] #rulenumber\n",
    "                            interface = logline_list[4] #interface\n",
    "                            pass_block = logline_list[6] #pass/block\n",
    "                            source_ip = logline_list[18] #source_ip\n",
    "                            destination_ip = logline_list[19] #destination_ip\n",
    "                            protocol = logline_list[16] #protocol\n",
    "#                             print(source_ip)\n",
    "#                             if returntype == 0: output = logline_list[0] #date/time\n",
    "#                             if returntype == 1: output = logline_list[3] #rulenumber\n",
    "#                             if returntype == 2: output = logline_list[4] #interface\n",
    "#                             if returntype == 3: output = logline_list[6] #pass/block\n",
    "#                             if returntype == 4: output = logline_list[18] #source_ip\n",
    "#                             if returntype == 5: output = logline_list[19] #destination_ip\n",
    "#                             if returntype == 6: output = logline_list[16] #protocol\n",
    "                            add_whitelist(source_ip,destination_ip)\n",
    "#                             print(source_ip,destination_ip)\n",
    "\n",
    "\n",
    "log_f = 'C:\\Users\\EUN SUN LEE\\Documents\\EE209 Project\\EunSun-Kevin-Leon\\\\testlogfile.log'\n",
    "white_f = 'C:\\Users\\EUN SUN LEE\\Documents\\EE209 Project\\EunSun-Kevin-Leon\\\\whitelist.txt'\n",
    "\n",
    "searchtext1 = 'block'\n",
    "searchtext2 = 'ue0'\n",
    "#returntypes  = ['0:date/time','1:rulenumber','2:interface','3:pass/block','4:source_ip','5:destination_ip','6:protocol'\n",
    "#'7:source_port','8:destination_port']\n",
    "filterlog_search(log_f, searchtext1, searchtext2)\n",
    "\n"
   ]
  },
  {
   "cell_type": "code",
   "execution_count": 3,
   "metadata": {
    "scrolled": false
   },
   "outputs": [
    {
     "name": "stdout",
     "output_type": "stream",
     "text": [
      "None\n"
     ]
    }
   ],
   "source": [
    "import re\n",
    "import os\n",
    "\n",
    "white_f = 'C:\\Users\\EUN SUN LEE\\Documents\\EE209 Project\\project\\\\whitelist.txt'\n",
    "\n",
    "def check_whitelist(ip_address):\n",
    "    # return 1 if the ip_address exists, 0 if not     \n",
    "    check = 0\n",
    "    with open(white_f) as f:\n",
    "        for line in f:\n",
    "            if ip_address in line: check = 1 \n",
    "    return check\n",
    "\n",
    "def add_whitelist(ip_address):\n",
    "    f = open(white_f, 'a')\n",
    "    if (check_whitelist(ip_address) == 0): \n",
    "        f.write('%s %s' % (ip_address, \",\"))\n",
    "\n",
    "def filterlog_search(filename, searchtext1, searchtext2, returntype):\n",
    "    h = 0 \n",
    "    returntypes  = ['date/time','rulenumber','interface','source_ip','source_port','destination_ip','destination_port','protocol']\n",
    "    with open(filename) as f:\n",
    "        for line in f:\n",
    "            if searchtext1 in line:\n",
    "                if searchtext2 in line:\n",
    "                    logline_list = [x.strip() for x in line.split(',')]\n",
    "                    if(len(logline_list) == 23):\n",
    "                        if(logline_list[0][16:34] == 'pfSense filterlog:'):\n",
    "                            if returntype == 0: output = logline_list[0] #date/time\n",
    "                            if returntype == 1: output = logline_list[3] #rulenumber\n",
    "                            if returntype == 2: output = logline_list[4] #interface\n",
    "                            if returntype == 3: output = logline_list[6] #pass/block\n",
    "                            if returntype == 4: output = logline_list[18] #source_ip\n",
    "                            if returntype == 5: output = logline_list[19] #destination_ip\n",
    "                            if returntype == 6: output = logline_list[16] #protocol\n",
    "                            # re = check_whitelist(output)\n",
    "                            # add_whitelist(output)\n",
    "                            #print(re)\n",
    "\n",
    "filename = 'C:\\Users\\EUN SUN LEE\\Documents\\EE209 Project\\project\\\\exfilter.log'\n",
    "searchtext1 = 'pass'\n",
    "searchtext2 = ''\n",
    "#returntypes  = ['0:date/time','1:rulenumber','2:interface','3:pass/block','4:source_ip','5:destination_ip','6:protocol'\n",
    "#'7:source_port','8:destination_port']\n",
    "print(filterlog_search(filename, searchtext1, searchtext2, 4))\n",
    "\n"
   ]
  },
  {
   "cell_type": "code",
   "execution_count": 308,
   "metadata": {},
   "outputs": [
    {
     "name": "stdout",
     "output_type": "stream",
     "text": [
      "2018-03-17:17:34:21\n"
     ]
    }
   ],
   "source": [
    "import json\n",
    "white_f = 'C:\\Users\\EUN SUN LEE\\Documents\\EE209 Project\\\\whitelist.txt'\n",
    "timea =  datetime.datetime.now()\n",
    "def timeStamped(fname, fmt='%Y-%m-%d:%H:%M:%S'):\n",
    "    return datetime.datetime.now().strftime(fmt)#.format(fname=fname)\n",
    "print(timeStamped(timea))\n"
   ]
  },
  {
   "cell_type": "code",
   "execution_count": 327,
   "metadata": {},
   "outputs": [],
   "source": [
    "import datetime\n",
    "timeb =  datetime.datetime.now()\n",
    "def timeStamped(fname, fmt='%Y-%m-%d:%H:%M:%S'):\n",
    "    return fname.strftime(fmt)#.format(fname=fname)"
   ]
  },
  {
   "cell_type": "code",
   "execution_count": 15,
   "metadata": {},
   "outputs": [
    {
     "name": "stdout",
     "output_type": "stream",
     "text": [
      "2018-03-18 17:58:02.201000\n",
      "2018-03-18:17:58:02\n",
      "2018-03-18 17:58:02\n"
     ]
    }
   ],
   "source": [
    "import datetime\n",
    "def timetostr(time):\n",
    "\treturn time.strftime('%Y-%m-%d:%H:%M:%S')\n",
    "\n",
    "def strtotime(time):\n",
    "\treturn datetime.datetime.strptime(time,'%Y-%m-%d:%H:%M:%S' )\n",
    "\n",
    "timeb =  datetime.datetime.now()\n",
    "print(timeb)\n",
    "print(timetostr(timeb))\n",
    "print(strtotime(timetostr(timeb)))"
   ]
  },
  {
   "cell_type": "code",
   "execution_count": 7,
   "metadata": {},
   "outputs": [
    {
     "ename": "NameError",
     "evalue": "name 'timea' is not defined",
     "output_type": "error",
     "traceback": [
      "\u001b[0;31m---------------------------------------------------------------------------\u001b[0m",
      "\u001b[0;31mNameError\u001b[0m                                 Traceback (most recent call last)",
      "\u001b[0;32m<ipython-input-7-aa0570f584cb>\u001b[0m in \u001b[0;36m<module>\u001b[0;34m()\u001b[0m\n\u001b[1;32m      1\u001b[0m \u001b[1;31m# as requested in comment\u001b[0m\u001b[1;33m\u001b[0m\u001b[1;33m\u001b[0m\u001b[0m\n\u001b[0;32m----> 2\u001b[0;31m \u001b[0mexDict\u001b[0m \u001b[1;33m=\u001b[0m \u001b[1;33m{\u001b[0m\u001b[1;34m'exDict'\u001b[0m\u001b[1;33m:\u001b[0m\u001b[0mtimea\u001b[0m\u001b[1;33m.\u001b[0m\u001b[0mstrftime\u001b[0m\u001b[1;33m(\u001b[0m\u001b[1;34m'%Y-%m-%d:%H:%M:%S'\u001b[0m\u001b[1;33m)\u001b[0m\u001b[1;33m}\u001b[0m\u001b[1;33m\u001b[0m\u001b[0m\n\u001b[0m\u001b[1;32m      3\u001b[0m \u001b[0mexDict\u001b[0m\u001b[1;33m.\u001b[0m\u001b[0mupdate\u001b[0m\u001b[1;33m(\u001b[0m\u001b[1;33m{\u001b[0m\u001b[1;34m'3'\u001b[0m\u001b[1;33m:\u001b[0m\u001b[0mtimeb\u001b[0m\u001b[1;33m.\u001b[0m\u001b[0mstrftime\u001b[0m\u001b[1;33m(\u001b[0m\u001b[1;34m'%Y-%m-%d:%H:%M:%S'\u001b[0m\u001b[1;33m)\u001b[0m\u001b[1;33m}\u001b[0m\u001b[1;33m)\u001b[0m\u001b[1;33m\u001b[0m\u001b[0m\n\u001b[1;32m      4\u001b[0m \u001b[1;32mprint\u001b[0m\u001b[1;33m(\u001b[0m\u001b[0mexDict\u001b[0m\u001b[1;33m)\u001b[0m\u001b[1;33m\u001b[0m\u001b[0m\n",
      "\u001b[0;31mNameError\u001b[0m: name 'timea' is not defined"
     ]
    }
   ],
   "source": [
    "def timetostr(time):\n",
    "\treturn time.strftime('%Y-%m-%d:%H:%M:%S')\n",
    "\n",
    "def strtotime(key):\n",
    "\treturn datetime.strptime(key,'%Y-%m-%d:%H:%M:%S' )\n",
    "\n",
    "exDict = {'exDict':timea.strftime('%Y-%m-%d:%H:%M:%S')}\n",
    "exDict.update({'3':timeb.strftime('%Y-%m-%d:%H:%M:%S')})\n",
    "print(exDict)\n"
   ]
  },
  {
   "cell_type": "code",
   "execution_count": 343,
   "metadata": {
    "collapsed": true
   },
   "outputs": [],
   "source": [
    "with open(white_f, 'w') as file:\n",
    "    file.write(json.dumps(exDict)) # use `json.loads` to do the reverse"
   ]
  },
  {
   "cell_type": "code",
   "execution_count": 344,
   "metadata": {},
   "outputs": [
    {
     "name": "stdout",
     "output_type": "stream",
     "text": [
      "{\"3\": \"2018-03-17:17:38:43\", \"exDict\": \"2018-03-17:17:34:21\"}\n"
     ]
    }
   ],
   "source": [
    "with open(white_f, 'r') as file:\n",
    "    line = file.read() # use `json.loads` to do the reverse\n",
    "    print(line)"
   ]
  },
  {
   "cell_type": "code",
   "execution_count": 9,
   "metadata": {},
   "outputs": [
    {
     "ename": "AttributeError",
     "evalue": "type object 'datetime.datetime' has no attribute 'datetime'",
     "output_type": "error",
     "traceback": [
      "\u001b[0;31m---------------------------------------------------------------------------\u001b[0m",
      "\u001b[0;31mAttributeError\u001b[0m                            Traceback (most recent call last)",
      "\u001b[0;32m<ipython-input-9-b65222ad7ed3>\u001b[0m in \u001b[0;36m<module>\u001b[0;34m()\u001b[0m\n\u001b[1;32m      1\u001b[0m \u001b[1;32mfrom\u001b[0m \u001b[0mdatetime\u001b[0m \u001b[1;32mimport\u001b[0m \u001b[0mdatetime\u001b[0m\u001b[1;33m\u001b[0m\u001b[0m\n\u001b[1;32m      2\u001b[0m \u001b[1;31m#exDict['3']\u001b[0m\u001b[1;33m\u001b[0m\u001b[1;33m\u001b[0m\u001b[0m\n\u001b[0;32m----> 3\u001b[0;31m \u001b[0mexDict\u001b[0m \u001b[1;33m=\u001b[0m  \u001b[0mdatetime\u001b[0m\u001b[1;33m.\u001b[0m\u001b[0mdatetime\u001b[0m\u001b[1;33m.\u001b[0m\u001b[0mnow\u001b[0m\u001b[1;33m(\u001b[0m\u001b[1;33m)\u001b[0m\u001b[1;33m\u001b[0m\u001b[0m\n\u001b[0m\u001b[1;32m      4\u001b[0m \u001b[0ma\u001b[0m \u001b[1;33m=\u001b[0m \u001b[0mdatetime\u001b[0m\u001b[1;33m.\u001b[0m\u001b[0mstrptime\u001b[0m\u001b[1;33m(\u001b[0m\u001b[0mexDict\u001b[0m\u001b[1;33m,\u001b[0m \u001b[1;34m'%Y-%m-%d:%H:%M:%S'\u001b[0m\u001b[1;33m)\u001b[0m\u001b[1;33m\u001b[0m\u001b[0m\n\u001b[1;32m      5\u001b[0m \u001b[0mb\u001b[0m \u001b[1;33m=\u001b[0m \u001b[0mdatetime\u001b[0m\u001b[1;33m.\u001b[0m\u001b[0mstrptime\u001b[0m\u001b[1;33m(\u001b[0m\u001b[0mexDict\u001b[0m\u001b[1;33m,\u001b[0m \u001b[1;34m'%Y-%m-%d:%H:%M:%S'\u001b[0m\u001b[1;33m)\u001b[0m\u001b[1;33m\u001b[0m\u001b[0m\n",
      "\u001b[0;31mAttributeError\u001b[0m: type object 'datetime.datetime' has no attribute 'datetime'"
     ]
    }
   ],
   "source": [
    "from datetime import datetime\n",
    "#exDict['3']\n",
    "exDict =  datetime.datetime.now()\n",
    "a = datetime.strptime(exDict, '%Y-%m-%d:%H:%M:%S')\n",
    "b = datetime.strptime(exDict, '%Y-%m-%d:%H:%M:%S')\n",
    "print(a)\n",
    "print(b)\n",
    "print((a-b).seconds)"
   ]
  },
  {
   "cell_type": "code",
   "execution_count": null,
   "metadata": {
    "scrolled": true
   },
   "outputs": [],
   "source": []
  },
  {
   "cell_type": "code",
   "execution_count": 255,
   "metadata": {},
   "outputs": [
    {
     "name": "stdout",
     "output_type": "stream",
     "text": [
      "2018-03-17 17:15:41.025000\n"
     ]
    }
   ],
   "source": [
    "from time import gmtime, strftime\n",
    "\n",
    "timea =  datetime.datetime.now()#strftime(\"%a, %d %b %Y %H:%M:%S +0000\", gmtime())\n",
    "print(timea)\n",
    "\n",
    "# from datetime import datetime\n",
    "# s1 = '10:33:26'\n",
    "# s2 = '11:15:49' # for example\n",
    "# FMT = '%H:%M:%S'\n",
    "# tdelta = datetime.strptime(s2, FMT) - datetime.strptime(s1, FMT)\n"
   ]
  },
  {
   "cell_type": "code",
   "execution_count": null,
   "metadata": {},
   "outputs": [],
   "source": [
    "blacklist = []\n",
    "thefile = open('blakclist.txt', 'w')\n",
    "for i in blacklist:\n",
    "    thefile.write(\"%s\\n\" % i)\n",
    "    \n",
    "print(\"complete\")"
   ]
  },
  {
   "cell_type": "code",
   "execution_count": 259,
   "metadata": {},
   "outputs": [
    {
     "name": "stdout",
     "output_type": "stream",
     "text": [
      "7\n"
     ]
    }
   ],
   "source": []
  }
 ],
 "metadata": {
  "kernelspec": {
   "display_name": "Python 3",
   "language": "python",
   "name": "python3"
  },
  "language_info": {
   "codemirror_mode": {
    "name": "ipython",
    "version": 3
   },
   "file_extension": ".py",
   "mimetype": "text/x-python",
   "name": "python",
   "nbconvert_exporter": "python",
   "pygments_lexer": "ipython3",
   "version": "3.6.4"
  }
 },
 "nbformat": 4,
 "nbformat_minor": 2
}
